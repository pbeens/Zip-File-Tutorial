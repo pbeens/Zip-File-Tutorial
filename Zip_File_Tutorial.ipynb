{
  "nbformat": 4,
  "nbformat_minor": 0,
  "metadata": {
    "colab": {
      "name": "Zip-File-Tutorial.ipynb",
      "provenance": [],
      "collapsed_sections": [],
      "authorship_tag": "ABX9TyM62ncloNz82tOLPwPe75Zc",
      "include_colab_link": true
    },
    "kernelspec": {
      "name": "python3",
      "display_name": "Python 3"
    },
    "language_info": {
      "name": "python"
    }
  },
  "cells": [
    {
      "cell_type": "markdown",
      "metadata": {
        "id": "view-in-github",
        "colab_type": "text"
      },
      "source": [
        "<a href=\"https://colab.research.google.com/github/pbeens/Zip-File-Tutorial/blob/main/Zip_File_Tutorial.ipynb\" target=\"_parent\"><img src=\"https://colab.research.google.com/assets/colab-badge.svg\" alt=\"Open In Colab\"/></a>"
      ]
    },
    {
      "cell_type": "code",
      "execution_count": null,
      "metadata": {
        "id": "Q8HDqag1Pk86"
      },
      "outputs": [],
      "source": [
        ""
      ]
    },
    {
      "cell_type": "markdown",
      "source": [
        "This Colab Notebook and the support files can be found at:\n",
        "\n",
        "https://github.com/pbeens/Zip-File-Tutorial"
      ],
      "metadata": {
        "id": "u6LuFvfCPoUY"
      }
    },
    {
      "cell_type": "markdown",
      "source": [
        "## Download the files we'll play with"
      ],
      "metadata": {
        "id": "HZmTY9Nqi_Bu"
      }
    },
    {
      "cell_type": "code",
      "source": [
        "!wget -q --show-progress 'https://raw.githubusercontent.com/pbeens/Zip-File-Tutorial/main/files/Canada-Populations-by-Province-eng.csv'\n",
        "!wget -q --show-progress 'https://github.com/pbeens/Zip-File-Tutorial/raw/main/files/Canada-Populations-by-Province-eng.xlsx'\n",
        "!wget -q --show-progress 'https://github.com/pbeens/Zip-File-Tutorial/raw/main/files/Lorem-Ipsum.docx'\n",
        "!wget -q --show-progress 'https://raw.githubusercontent.com/pbeens/Zip-File-Tutorial/main/files/Lorem-Ipsum.rtf'\n",
        "!wget -q --show-progress 'https://raw.githubusercontent.com/pbeens/Zip-File-Tutorial/main/files/Lorem-Ipsum.txt'\n",
        "!wget -q --show-progress 'https://github.com/pbeens/Zip-File-Tutorial/raw/main/files/snow-scene.jpg'"
      ],
      "metadata": {
        "id": "7SZ5e861P9K5"
      },
      "execution_count": null,
      "outputs": []
    },
    {
      "cell_type": "markdown",
      "source": [
        "## Declare the file variables (as a list)"
      ],
      "metadata": {
        "id": "ooI-tLWXjbTF"
      }
    },
    {
      "cell_type": "code",
      "source": [
        "files = ['/content/Canada-Populations-by-Province-eng.csv',\n",
        "         '/content/Canada-Populations-by-Province-eng.xlsx',\n",
        "         '/content/Lorem-Ipsum.docx',\n",
        "         '/content/Lorem-Ipsum.rtf',\n",
        "         '/content/Lorem-Ipsum.txt',\n",
        "         '/content/snow-scene.jpg']"
      ],
      "metadata": {
        "id": "7Hw8gvpgjh1o"
      },
      "execution_count": 3,
      "outputs": []
    },
    {
      "cell_type": "code",
      "source": [
        ""
      ],
      "metadata": {
        "id": "0VxAl-4ajwt4"
      },
      "execution_count": null,
      "outputs": []
    },
    {
      "cell_type": "markdown",
      "source": [
        "## Let's zip our files"
      ],
      "metadata": {
        "id": "CDz7zOW3k_l1"
      }
    },
    {
      "cell_type": "code",
      "source": [
        "from zipfile import ZipFile\n",
        "\n",
        "zip_filename = '/content/files.zip'\n",
        "\n",
        "with ZipFile(zip_filename, mode=\"w\") as archive:\n",
        "    for file in files:\n",
        "        archive.write(file)"
      ],
      "metadata": {
        "id": "-nfQ4DK3krT4"
      },
      "execution_count": 37,
      "outputs": []
    },
    {
      "cell_type": "markdown",
      "source": [
        "## What about file compression?"
      ],
      "metadata": {
        "id": "x7u-iMCClx_0"
      }
    },
    {
      "cell_type": "markdown",
      "source": [
        "If we look at the filesizes of our files and the size of the zip file you'll see we don't have any compression (yet). In fact, the zip file is bigger than the total size of the files, due to overhead."
      ],
      "metadata": {
        "id": "x32GsIAUl3Eq"
      }
    },
    {
      "cell_type": "markdown",
      "source": [
        "###No file compression"
      ],
      "metadata": {
        "id": "m3BLWs9Qsx4d"
      }
    },
    {
      "cell_type": "code",
      "source": [
        "import os # needed for getsize()\n",
        "\n",
        "zip_filename = '/content/files.zip'\n",
        "\n",
        "def get_and_print_filesizes():\n",
        "    total_filesize = 0\n",
        "    for file in files:\n",
        "        total_filesize += os.path.getsize(file)\n",
        "\n",
        "    size_of_zip_file = os.path.getsize(zip_filename)\n",
        "\n",
        "    print(f'Size of all files: {total_filesize}')\n",
        "    print(f'Size of zip file: {size_of_zip_file}')\n",
        "    print(f'Compression amount: {(1-size_of_zip_file/total_filesize)*100:.1f}%')\n",
        "\n",
        "get_and_print_filesizes()"
      ],
      "metadata": {
        "colab": {
          "base_uri": "https://localhost:8080/"
        },
        "id": "fClx9_Sml1pW",
        "outputId": "96674ebd-b0af-430a-c952-85fceb76784f"
      },
      "execution_count": 38,
      "outputs": [
        {
          "output_type": "stream",
          "name": "stdout",
          "text": [
            "Size of all files: 215985\n",
            "Size of zip file: 216833\n",
            "Compression amount: -0.4%\n"
          ]
        }
      ]
    },
    {
      "cell_type": "markdown",
      "source": [
        "###With file compression"
      ],
      "metadata": {
        "id": "TyH2tUrws2hC"
      }
    },
    {
      "cell_type": "markdown",
      "source": [
        "To compress the files, we need to program in the compression method and the compression level we want to use. \n",
        "\n",
        "For this tutorial, we will use the ZIP_DEFLATED method of compression. \n",
        "\n",
        "Compression levels are from 0 to 9, with 0 being no compression and 9 being the highest. Note that the higher the compression level the longer it will take to compress and decompress the files."
      ],
      "metadata": {
        "id": "s86d1-D4nM3n"
      }
    },
    {
      "cell_type": "code",
      "source": [
        "from zipfile import ZipFile, ZIP_DEFLATED\n",
        "\n",
        "zip_filename = '/content/files.zip'\n",
        "\n",
        "with ZipFile(zip_filename, \"w\", ZIP_DEFLATED, compresslevel=9) as archive:\n",
        "    for file in files:\n",
        "        archive.write(file)\n",
        "\n",
        "get_and_print_filesizes()"
      ],
      "metadata": {
        "colab": {
          "base_uri": "https://localhost:8080/"
        },
        "id": "ktHfLlFombOY",
        "outputId": "cdc8d0b7-ae20-4b7b-83a2-8e961ebb4c9f"
      },
      "execution_count": 35,
      "outputs": [
        {
          "output_type": "stream",
          "name": "stdout",
          "text": [
            "Size of all files: 215985\n",
            "Size of zip file: 159179\n",
            "Compression amount: 26.3%\n"
          ]
        }
      ]
    },
    {
      "cell_type": "code",
      "source": [
        ""
      ],
      "metadata": {
        "id": "edQtA6iHqdOp"
      },
      "execution_count": null,
      "outputs": []
    }
  ]
}