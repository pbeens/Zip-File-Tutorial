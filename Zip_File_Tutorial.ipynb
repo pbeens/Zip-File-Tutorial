{
  "nbformat": 4,
  "nbformat_minor": 0,
  "metadata": {
    "colab": {
      "name": "Zip-File-Tutorial.ipynb",
      "provenance": [],
      "collapsed_sections": [],
      "authorship_tag": "ABX9TyPtJ8Q1J4Y2gz1kt7ou1nDX",
      "include_colab_link": true
    },
    "kernelspec": {
      "name": "python3",
      "display_name": "Python 3"
    },
    "language_info": {
      "name": "python"
    }
  },
  "cells": [
    {
      "cell_type": "markdown",
      "metadata": {
        "id": "view-in-github",
        "colab_type": "text"
      },
      "source": [
        "<a href=\"https://colab.research.google.com/github/pbeens/Zip-File-Tutorial/blob/main/Zip_File_Tutorial.ipynb\" target=\"_parent\"><img src=\"https://colab.research.google.com/assets/colab-badge.svg\" alt=\"Open In Colab\"/></a>"
      ]
    },
    {
      "cell_type": "markdown",
      "source": [
        "This Colab Notebook and the support files can be found at:\n",
        "\n",
        "https://github.com/pbeens/Zip-File-Tutorial"
      ],
      "metadata": {
        "id": "u6LuFvfCPoUY"
      }
    },
    {
      "cell_type": "markdown",
      "source": [
        "## Download the files we'll play with"
      ],
      "metadata": {
        "id": "HZmTY9Nqi_Bu"
      }
    },
    {
      "cell_type": "code",
      "source": [
        "!pip -q install wget # need to install wget"
      ],
      "metadata": {
        "colab": {
          "base_uri": "https://localhost:8080/"
        },
        "id": "JkYVtppdi0s2",
        "outputId": "5ffb6328-f4d8-4799-a639-cb2b3c69db34"
      },
      "execution_count": 1,
      "outputs": [
        {
          "output_type": "stream",
          "name": "stdout",
          "text": [
            "  Building wheel for wget (setup.py) ... \u001b[?25l\u001b[?25hdone\n"
          ]
        }
      ]
    },
    {
      "cell_type": "code",
      "source": [
        "import wget\n",
        "\n",
        "files = []\n",
        "\n",
        "file_urls = ['https://raw.githubusercontent.com/pbeens/Zip-File-Tutorial/main/files/Canada-Populations-by-Province-eng.csv',\n",
        "             'https://github.com/pbeens/Zip-File-Tutorial/raw/main/files/Canada-Populations-by-Province-eng.xlsx',\n",
        "             'https://github.com/pbeens/Zip-File-Tutorial/raw/main/files/Lorem-Ipsum.docx',\n",
        "             'https://raw.githubusercontent.com/pbeens/Zip-File-Tutorial/main/files/Lorem-Ipsum.rtf',\n",
        "             'https://raw.githubusercontent.com/pbeens/Zip-File-Tutorial/main/files/Lorem-Ipsum.txt',\n",
        "             'https://github.com/pbeens/Zip-File-Tutorial/raw/main/files/snow-scene.jpg']\n",
        "\n",
        "for url in file_urls:\n",
        "    wget.download(url)\n",
        "\n",
        "print('Files downloaded.')\n"
      ],
      "metadata": {
        "colab": {
          "base_uri": "https://localhost:8080/"
        },
        "id": "DXHxLDyziDn5",
        "outputId": "067ad9ae-9618-44a9-9a9d-eee96ed7f0c1"
      },
      "execution_count": 2,
      "outputs": [
        {
          "output_type": "stream",
          "name": "stdout",
          "text": [
            "Files downloaded.\n"
          ]
        }
      ]
    },
    {
      "cell_type": "markdown",
      "source": [
        "## Declare the file variables (as a list)"
      ],
      "metadata": {
        "id": "ooI-tLWXjbTF"
      }
    },
    {
      "cell_type": "code",
      "source": [
        "files = []\n",
        "\n",
        "for url in file_urls:\n",
        "    filename = url.split('/')[-1] # filename is last part of URL\n",
        "    files.append(filename) # add filename to files list\n",
        "\n",
        "print(files)"
      ],
      "metadata": {
        "id": "7Hw8gvpgjh1o",
        "colab": {
          "base_uri": "https://localhost:8080/"
        },
        "outputId": "9c27a63c-bfe5-4fb1-fe74-7a8eca6d945e"
      },
      "execution_count": 3,
      "outputs": [
        {
          "output_type": "stream",
          "name": "stdout",
          "text": [
            "['Canada-Populations-by-Province-eng.csv', 'Canada-Populations-by-Province-eng.xlsx', 'Lorem-Ipsum.docx', 'Lorem-Ipsum.rtf', 'Lorem-Ipsum.txt', 'snow-scene.jpg']\n"
          ]
        }
      ]
    },
    {
      "cell_type": "markdown",
      "source": [
        "## Let's zip our files"
      ],
      "metadata": {
        "id": "CDz7zOW3k_l1"
      }
    },
    {
      "cell_type": "code",
      "source": [
        "from zipfile import ZipFile\n",
        "\n",
        "zip_filename = 'files.zip'\n",
        "\n",
        "with ZipFile(zip_filename, mode=\"w\") as archive:\n",
        "    for file in files:\n",
        "        archive.write(file)"
      ],
      "metadata": {
        "id": "-nfQ4DK3krT4"
      },
      "execution_count": 4,
      "outputs": []
    },
    {
      "cell_type": "markdown",
      "source": [
        "## What about file compression?"
      ],
      "metadata": {
        "id": "x7u-iMCClx_0"
      }
    },
    {
      "cell_type": "markdown",
      "source": [
        "If we look at the filesizes of our files and the size of the zip file you'll see we don't have any compression (yet). In fact, the zip file is bigger than the total size of the files, due to overhead."
      ],
      "metadata": {
        "id": "x32GsIAUl3Eq"
      }
    },
    {
      "cell_type": "markdown",
      "source": [
        "###Checking filesizes with no compression"
      ],
      "metadata": {
        "id": "m3BLWs9Qsx4d"
      }
    },
    {
      "cell_type": "code",
      "source": [
        "import os # needed for getsize()\n",
        "\n",
        "zip_filename = 'files.zip'\n",
        "\n",
        "def get_and_print_filesizes():\n",
        "    total_filesize = 0\n",
        "    for file in files:\n",
        "        total_filesize += os.path.getsize(file)\n",
        "\n",
        "    size_of_zip_file = os.path.getsize(zip_filename)\n",
        "\n",
        "    print(f'Size of all files: {total_filesize}')\n",
        "    print(f'Size of zip file: {size_of_zip_file}')\n",
        "    print(f'Compression amount: {(1-size_of_zip_file/total_filesize)*100:.1f}%')\n",
        "\n",
        "get_and_print_filesizes()"
      ],
      "metadata": {
        "colab": {
          "base_uri": "https://localhost:8080/"
        },
        "id": "fClx9_Sml1pW",
        "outputId": "a8309902-4034-432c-8537-7ff4c8f54adf"
      },
      "execution_count": 5,
      "outputs": [
        {
          "output_type": "stream",
          "name": "stdout",
          "text": [
            "Size of all files: 215985\n",
            "Size of zip file: 216737\n",
            "Compression amount: -0.3%\n"
          ]
        }
      ]
    },
    {
      "cell_type": "markdown",
      "source": [
        "###With file compression"
      ],
      "metadata": {
        "id": "TyH2tUrws2hC"
      }
    },
    {
      "cell_type": "markdown",
      "source": [
        "To compress the files, we need to program in the compression method and the compression level we want to use. \n",
        "\n",
        "For this tutorial, we will use the ZIP_DEFLATED method of compression. \n",
        "\n",
        "Compression levels are from 0 to 9, with 0 being no compression and 9 being the highest. Note that the higher the compression level the longer it will take to compress and decompress the files."
      ],
      "metadata": {
        "id": "s86d1-D4nM3n"
      }
    },
    {
      "cell_type": "code",
      "source": [
        "from zipfile import ZipFile, ZIP_DEFLATED\n",
        "\n",
        "zip_filename = 'files.zip'\n",
        "\n",
        "with ZipFile(zip_filename, \"w\", ZIP_DEFLATED, compresslevel=9) as archive:\n",
        "    for file in files:\n",
        "        archive.write(file)\n",
        "\n",
        "get_and_print_filesizes()"
      ],
      "metadata": {
        "colab": {
          "base_uri": "https://localhost:8080/"
        },
        "id": "ktHfLlFombOY",
        "outputId": "0a22bafc-8c42-40c2-a763-233b38c5e341"
      },
      "execution_count": 6,
      "outputs": [
        {
          "output_type": "stream",
          "name": "stdout",
          "text": [
            "Size of all files: 215985\n",
            "Size of zip file: 159083\n",
            "Compression amount: 26.3%\n"
          ]
        }
      ]
    }
  ]
}